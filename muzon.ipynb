{
  "nbformat": 4,
  "nbformat_minor": 0,
  "metadata": {
    "colab": {
      "provenance": [],
      "authorship_tag": "ABX9TyMYULVtFMtwfcuhrPkk0E2w",
      "include_colab_link": true
    },
    "kernelspec": {
      "name": "python3",
      "display_name": "Python 3"
    },
    "language_info": {
      "name": "python"
    }
  },
  "cells": [
    {
      "cell_type": "markdown",
      "metadata": {
        "id": "view-in-github",
        "colab_type": "text"
      },
      "source": [
        "<a href=\"https://colab.research.google.com/github/Shathaalharb/MASAR/blob/main/muzon.ipynb\" target=\"_parent\"><img src=\"https://colab.research.google.com/assets/colab-badge.svg\" alt=\"Open In Colab\"/></a>"
      ]
    },
    {
      "cell_type": "code",
      "execution_count": null,
      "metadata": {
        "colab": {
          "base_uri": "https://localhost:8080/"
        },
        "id": "eDRphi_uOKBD",
        "outputId": "f49e4999-cf80-4d9d-9ed4-f0ea8de2c05c"
      },
      "outputs": [
        {
          "output_type": "stream",
          "name": "stdout",
          "text": [
            "my name is shatha\n"
          ]
        }
      ],
      "source": [
        "#الكود الاول مع منصة مسار البطلة\n",
        "\n",
        "name=\"shatha\"\n",
        "\n",
        "age=24\n",
        "\n",
        "print('my name is '+name)\n"
      ]
    }
  ]
}